{
 "cells": [
  {
   "cell_type": "markdown",
   "metadata": {},
   "source": [
    "<center>\n",
    "    <img src=\"https://s3-api.us-geo.objectstorage.softlayer.net/cf-courses-data/CognitiveClass/Logos/organization_logo/organization_logo.png\" width=\"300\" alt=\"cognitiveclass.ai logo\"  />\n",
    "</center>\n"
   ]
  },
  {
   "cell_type": "markdown",
   "metadata": {},
   "source": [
    "#### Add your code below following the instructions given in the course\n"
   ]
  },
  {
   "cell_type": "markdown",
   "metadata": {},
   "source": [
    "# My Jupyter Notebook on IBM Watson Studio"
   ]
  },
  {
   "cell_type": "markdown",
   "metadata": {},
   "source": [
    "**Mopock Talla Ceverine Thalitha** \n",
    "\n",
    "Student"
   ]
  },
  {
   "cell_type": "markdown",
   "metadata": {},
   "source": [
    "_I am interested in data science because i love how easy we can solve difficult problem_\n",
    "\n",
    "_I am interested in data science because i like to learn skill that we help me help my community and data science is one of them_"
   ]
  },
  {
   "cell_type": "markdown",
   "metadata": {},
   "source": [
    "### The following code multiply to integer"
   ]
  },
  {
   "cell_type": "code",
   "execution_count": 1,
   "metadata": {},
   "outputs": [
    {
     "data": {
      "text/plain": [
       "12"
      ]
     },
     "execution_count": 1,
     "metadata": {},
     "output_type": "execute_result"
    }
   ],
   "source": [
    "4*3"
   ]
  },
  {
   "cell_type": "markdown",
   "metadata": {},
   "source": [
    "1. One\n",
    "2. Two\n",
    "3. Three\n",
    "4. Four\n",
    "\n",
    "- One\n",
    "- Two\n",
    "- Three\n",
    "\n",
    "\n",
    "| Name | Occupation | Age |\n",
    "| --- | --- | --- |\n",
    "| Mopock T | Student | 21 |\n",
    "\n",
    "\n",
    "<a href=\"https://www.google.com/search?q=google+&rlz=1C1CHBF_enUS919US919&sxsrf=ALiCzsbEFl7aucDaON_DhIHcfaTE5EcMLw%3A1660294444188&ei=LBX2Ypv5CtGhkwWE9pfIDg&ved=0ahUKEwibv8Xk9sD5AhXR0KQKHQT7BekQ4dUDCA4&uact=5&oq=google+&gs_lcp=Cgdnd3Mtd2l6EAMyBAgjECcyBAgjECcyBAgjECcyBAgAEEMyBQgAEMsBMgUIABDLATIFCAAQywEyBQgAEMsBMggIABCABBCxAzIFCAAQywE6BwgjELADECc6BwgAEEcQsAM6BwgAELADEENKBQg8EgE2SgQIQRgASgQIRhgAUJsWWJsWYP0YaAZwAXgAgAHhAYgB4QGSAQMyLTGYAQCgAQHIAQrAAQE&sclient=gws-wiz\">Google</a>\n",
    "\n",
    "\n",
    "<img scr = https://img1.ak.crunchyroll.com/i/spire2/f4ca1a545a471a9ce6e43eef8e8d72541539734102_main.jpg>"
   ]
  },
  {
   "cell_type": "code",
   "execution_count": null,
   "metadata": {},
   "outputs": [],
   "source": []
  }
 ],
 "metadata": {
  "kernelspec": {
   "display_name": "Python",
   "language": "python",
   "name": "conda-env-python-py"
  },
  "language_info": {
   "codemirror_mode": {
    "name": "ipython",
    "version": 3
   },
   "file_extension": ".py",
   "mimetype": "text/x-python",
   "name": "python",
   "nbconvert_exporter": "python",
   "pygments_lexer": "ipython3",
   "version": "3.7.12"
  }
 },
 "nbformat": 4,
 "nbformat_minor": 4
}
